{
 "cells": [
  {
   "cell_type": "code",
   "execution_count": 1,
   "id": "89c1e6b2",
   "metadata": {},
   "outputs": [],
   "source": [
    "import pandas as pd\n",
    "import numpy as np\n",
    "\n",
    "import matplotlib.pyplot as plt\n",
    "import seaborn as sns\n",
    "\n",
    "import warnings\n",
    "\n",
    "import scipy.stats\n",
    "\n",
    "from matplotlib.colors import LinearSegmentedColormap, ListedColormap\n",
    "\n",
    "from sklearn.preprocessing import MinMaxScaler\n",
    "from sklearn.preprocessing import OneHotEncoder\n",
    "\n",
    "from sklearn.model_selection import train_test_split\n",
    "from sklearn import linear_model\n",
    "from sklearn.linear_model import LogisticRegression\n",
    "from sklearn.neighbors import KNeighborsRegressor\n",
    "from sklearn.metrics import r2_score\n",
    "from sklearn.metrics import mean_squared_error\n",
    "from sklearn.metrics import mean_absolute_error\n",
    "\n",
    "from scipy.stats import ttest_1samp"
   ]
  },
  {
   "cell_type": "code",
   "execution_count": 2,
   "id": "b0e8afb4",
   "metadata": {},
   "outputs": [],
   "source": [
    "warnings.filterwarnings('ignore')"
   ]
  },
  {
   "cell_type": "markdown",
   "id": "d723469f",
   "metadata": {},
   "source": [
    "# 0. Quick Look"
   ]
  },
  {
   "cell_type": "code",
   "execution_count": 3,
   "id": "b8b32c77",
   "metadata": {},
   "outputs": [],
   "source": [
    "data = pd.read_csv('idealista_231009_2.csv')"
   ]
  },
  {
   "cell_type": "code",
   "execution_count": 4,
   "id": "68b7dafe",
   "metadata": {},
   "outputs": [],
   "source": [
    "# data.head()"
   ]
  },
  {
   "cell_type": "code",
   "execution_count": 5,
   "id": "faeb5632",
   "metadata": {},
   "outputs": [],
   "source": [
    "# data.shape"
   ]
  },
  {
   "cell_type": "code",
   "execution_count": 6,
   "id": "ff34cea7",
   "metadata": {},
   "outputs": [],
   "source": [
    "data = data.drop_duplicates(keep='last')"
   ]
  },
  {
   "cell_type": "code",
   "execution_count": 7,
   "id": "323e22b1",
   "metadata": {},
   "outputs": [],
   "source": [
    "# for i in data.columns:\n",
    "#     display(data[i].value_counts(dropna=False))"
   ]
  },
  {
   "cell_type": "markdown",
   "id": "4cd3330d",
   "metadata": {},
   "source": [
    "# 1. Data cleaning"
   ]
  },
  {
   "cell_type": "code",
   "execution_count": 8,
   "id": "64c62eb4",
   "metadata": {},
   "outputs": [],
   "source": [
    "data1 = data[['propertyCode', 'floor', 'price', 'size', 'exterior', 'district', 'neighborhood', 'latitude', 'longitude', 'status', 'hasLift', 'parkingSpace']]"
   ]
  },
  {
   "cell_type": "code",
   "execution_count": 9,
   "id": "5fd8d515",
   "metadata": {},
   "outputs": [],
   "source": [
    "data1 = data1.rename(columns={'propertyCode':'code',\n",
    "                            'hasLift':'lift', \n",
    "                            'priceByArea':'price_by_area',\n",
    "                            'parkingSpace':'parking_space'})"
   ]
  },
  {
   "cell_type": "code",
   "execution_count": 10,
   "id": "aadef901",
   "metadata": {},
   "outputs": [],
   "source": [
    "# data1"
   ]
  },
  {
   "cell_type": "markdown",
   "id": "1344542e",
   "metadata": {},
   "source": [
    "### 1.1 Parking"
   ]
  },
  {
   "cell_type": "code",
   "execution_count": 11,
   "id": "58c66b69",
   "metadata": {},
   "outputs": [],
   "source": [
    "# data1['parking_space'].value_counts()"
   ]
  },
  {
   "cell_type": "markdown",
   "id": "31f73a6a",
   "metadata": {},
   "source": [
    "Assumption: if nan there´s no parking space."
   ]
  },
  {
   "cell_type": "code",
   "execution_count": 12,
   "id": "853c0f95",
   "metadata": {},
   "outputs": [],
   "source": [
    "data1['parking_space'] = data1['parking_space'].fillna(False)"
   ]
  },
  {
   "cell_type": "code",
   "execution_count": 13,
   "id": "809ebe20",
   "metadata": {},
   "outputs": [],
   "source": [
    "# data1['parking_space']"
   ]
  },
  {
   "cell_type": "code",
   "execution_count": 14,
   "id": "2e52b433",
   "metadata": {},
   "outputs": [],
   "source": [
    "data1['parking'] = np.where(data1['parking_space']==False, 'no parking', 0)"
   ]
  },
  {
   "cell_type": "code",
   "execution_count": 15,
   "id": "93f496a0",
   "metadata": {},
   "outputs": [],
   "source": [
    "data1['parking'] = np.where(data1['parking_space']=='''{'hasParkingSpace': True, 'isParkingSpaceIncludedInPrice': True}''', 'parking included in price', data1['parking'])"
   ]
  },
  {
   "cell_type": "code",
   "execution_count": 16,
   "id": "351a2774",
   "metadata": {},
   "outputs": [],
   "source": [
    "data1['parking'] = np.where(data1['parking']=='0', 'parking availability not included in price', data1['parking'])"
   ]
  },
  {
   "cell_type": "code",
   "execution_count": 17,
   "id": "84628404",
   "metadata": {},
   "outputs": [],
   "source": [
    "# data1['parking'].value_counts()"
   ]
  },
  {
   "cell_type": "code",
   "execution_count": 18,
   "id": "8cf0d2dd",
   "metadata": {},
   "outputs": [],
   "source": [
    "data1.drop(['parking_space'], axis=1, inplace=True)"
   ]
  },
  {
   "cell_type": "code",
   "execution_count": 19,
   "id": "5d5bbccd",
   "metadata": {},
   "outputs": [],
   "source": [
    "# data1"
   ]
  },
  {
   "cell_type": "markdown",
   "id": "71e75c91",
   "metadata": {},
   "source": [
    "### 1.2 Neighborhood"
   ]
  },
  {
   "cell_type": "code",
   "execution_count": 20,
   "id": "81010268",
   "metadata": {},
   "outputs": [],
   "source": [
    "data1['neighborhood'] = data1['neighborhood'].fillna(data1['district'])"
   ]
  },
  {
   "cell_type": "markdown",
   "id": "be79f52d",
   "metadata": {},
   "source": [
    "### 1.3 Floor"
   ]
  },
  {
   "cell_type": "code",
   "execution_count": 21,
   "id": "56d8d1eb",
   "metadata": {},
   "outputs": [],
   "source": [
    "data1['floor'] = data1['floor'].fillna('unk')"
   ]
  },
  {
   "cell_type": "markdown",
   "id": "fd028952",
   "metadata": {},
   "source": [
    "### 1.4 Exterior"
   ]
  },
  {
   "cell_type": "code",
   "execution_count": 22,
   "id": "d38c85c9",
   "metadata": {},
   "outputs": [],
   "source": [
    "data1['exterior'] = data1['exterior'].fillna('unk')"
   ]
  },
  {
   "cell_type": "markdown",
   "id": "017ccdd5",
   "metadata": {},
   "source": [
    "### 1.5 Lift"
   ]
  },
  {
   "cell_type": "code",
   "execution_count": 23,
   "id": "4d335c0c",
   "metadata": {},
   "outputs": [],
   "source": [
    "data1['lift'] = data1['lift'].fillna('unk')"
   ]
  },
  {
   "cell_type": "markdown",
   "id": "d2ea3927",
   "metadata": {},
   "source": [
    "### 1.6 Check"
   ]
  },
  {
   "cell_type": "code",
   "execution_count": 24,
   "id": "fc236471",
   "metadata": {},
   "outputs": [
    {
     "data": {
      "text/plain": [
       "code            0\n",
       "floor           0\n",
       "price           0\n",
       "size            0\n",
       "exterior        0\n",
       "district        0\n",
       "neighborhood    0\n",
       "latitude        0\n",
       "longitude       0\n",
       "status          0\n",
       "lift            0\n",
       "parking         0\n",
       "dtype: int64"
      ]
     },
     "execution_count": 24,
     "metadata": {},
     "output_type": "execute_result"
    }
   ],
   "source": [
    "data1.isna().sum()"
   ]
  },
  {
   "cell_type": "markdown",
   "id": "9a8ee22b",
   "metadata": {},
   "source": [
    "### 1.3 Object Type"
   ]
  },
  {
   "cell_type": "code",
   "execution_count": 25,
   "id": "4ae0ca85",
   "metadata": {},
   "outputs": [
    {
     "data": {
      "text/plain": [
       "code              int64\n",
       "floor            object\n",
       "price           float64\n",
       "size            float64\n",
       "exterior         object\n",
       "district         object\n",
       "neighborhood     object\n",
       "latitude        float64\n",
       "longitude       float64\n",
       "status           object\n",
       "lift             object\n",
       "parking          object\n",
       "dtype: object"
      ]
     },
     "execution_count": 25,
     "metadata": {},
     "output_type": "execute_result"
    }
   ],
   "source": [
    "data1.dtypes"
   ]
  },
  {
   "cell_type": "code",
   "execution_count": 26,
   "id": "86e9a0e7",
   "metadata": {},
   "outputs": [],
   "source": [
    "data1['code'] = data1['code'].astype('object')"
   ]
  },
  {
   "cell_type": "markdown",
   "id": "7038aa88",
   "metadata": {},
   "source": [
    "### 1.4 Save Clean"
   ]
  },
  {
   "cell_type": "code",
   "execution_count": 27,
   "id": "9c6d2b66",
   "metadata": {},
   "outputs": [],
   "source": [
    "data = data1"
   ]
  },
  {
   "cell_type": "code",
   "execution_count": 28,
   "id": "7fa2faff",
   "metadata": {},
   "outputs": [],
   "source": [
    "# data.to_csv('idealista_231009_cleaned.csv', index=False)"
   ]
  },
  {
   "cell_type": "markdown",
   "id": "1ad9797d",
   "metadata": {},
   "source": [
    "# 2. Data wrangling"
   ]
  },
  {
   "cell_type": "code",
   "execution_count": 29,
   "id": "5f471a80",
   "metadata": {},
   "outputs": [],
   "source": [
    "data = pd.read_csv('idealista_231009_cleaned.csv')"
   ]
  },
  {
   "cell_type": "code",
   "execution_count": 30,
   "id": "9902168c",
   "metadata": {},
   "outputs": [],
   "source": [
    "# data.dtypes"
   ]
  },
  {
   "cell_type": "markdown",
   "id": "6fc0c7a7",
   "metadata": {},
   "source": [
    "### 2.1 Correlation"
   ]
  },
  {
   "cell_type": "code",
   "execution_count": 31,
   "id": "bd108a22",
   "metadata": {},
   "outputs": [],
   "source": [
    "# correlation = data.corr()\n",
    "# sns.heatmap(correlation, annot=True)\n",
    "# plt.show()"
   ]
  },
  {
   "cell_type": "markdown",
   "id": "1e7aeb56",
   "metadata": {},
   "source": [
    "### 2.2 Outliers numerical"
   ]
  },
  {
   "cell_type": "code",
   "execution_count": 32,
   "id": "2ef078f7",
   "metadata": {
    "scrolled": true
   },
   "outputs": [
    {
     "data": {
      "image/png": "[encoded data removed]",
      "text/plain": [
       "<Figure size 640x480 with 1 Axes>"
      ]
     },
     "metadata": {},
     "output_type": "display_data"
    },
    {
     "data": {
      "image/png": "[encoded data removed]",
      "text/plain": [
       "<Figure size 640x480 with 1 Axes>"
      ]
     },
     "metadata": {},
     "output_type": "display_data"
    },
    {
     "data": {
      "image/png": "[encoded data removed]",
      "text/plain": [
       "<Figure size 640x480 with 1 Axes>"
      ]
     },
     "metadata": {},
     "output_type": "display_data"
    }
   ],
   "source": [
    "check_outliers = ['size', 'latitude', 'longitude']\n",
    "for i in check_outliers:\n",
    "    sns.boxplot(x = i, palette = 'rocket', data=data)\n",
    "    plt.show()"
   ]
  },
  {
   "cell_type": "markdown",
   "id": "884c8ec1",
   "metadata": {},
   "source": [
    "### 2.3 Size"
   ]
  },
  {
   "cell_type": "code",
   "execution_count": 33,
   "id": "1f4c539d",
   "metadata": {},
   "outputs": [],
   "source": [
    "data = data[data['size']<=250]"
   ]
  },
  {
   "cell_type": "code",
   "execution_count": 34,
   "id": "7ded71d4",
   "metadata": {},
   "outputs": [],
   "source": [
    "# data.head()"
   ]
  },
  {
   "cell_type": "markdown",
   "id": "a5a823fa",
   "metadata": {},
   "source": [
    "### 2.4 Aggregating categorical"
   ]
  },
  {
   "cell_type": "code",
   "execution_count": 35,
   "id": "01741672",
   "metadata": {
    "scrolled": true
   },
   "outputs": [
    {
     "data": {
      "image/png": "[encoded data removed]",
      "text/plain": [
       "<Figure size 1200x300 with 1 Axes>"
      ]
     },
     "metadata": {},
     "output_type": "display_data"
    },
    {
     "data": {
      "image/png": "[encoded data removed]",
      "text/plain": [
       "<Figure size 1200x300 with 1 Axes>"
      ]
     },
     "metadata": {},
     "output_type": "display_data"
    },
    {
     "data": {
      "image/png": "[encoded data removed]",
      "text/plain": [
       "<Figure size 1200x300 with 1 Axes>"
      ]
     },
     "metadata": {},
     "output_type": "display_data"
    },
    {
     "data": {
      "image/png": "[encoded data removed]",
      "text/plain": [
       "<Figure size 1200x300 with 1 Axes>"
      ]
     },
     "metadata": {},
     "output_type": "display_data"
    }
   ],
   "source": [
    "# visualize_countplot = ['floor', 'exterior', 'district', 'neighborhood', 'lift', 'parking']\n",
    "visualize_countplot = ['district', 'neighborhood', 'lift', 'parking']\n",
    "for i in visualize_countplot:\n",
    "    plt.figure(figsize=(12, 3))\n",
    "    ax = sns.countplot(x=data[i], palette='Set2')\n",
    "    ax.set_xticklabels(ax.get_xticklabels(), rotation=90)\n",
    "    plt.show()"
   ]
  },
  {
   "cell_type": "code",
   "execution_count": 36,
   "id": "e45e81be",
   "metadata": {
    "scrolled": true
   },
   "outputs": [],
   "source": [
    "# visualize_barplot = ['floor', 'exterior', 'district', 'neighborhood', 'status', 'lift', 'parking']\n",
    "# for i in visualize_barplot:\n",
    "#     plt.figure(figsize=(12, 3))\n",
    "#     ax = sns.barplot(x=data[i], y=data['price'], palette='Set2', ci=None)\n",
    "#     ax.set_xticklabels(ax.get_xticklabels(), rotation=90)\n",
    "#     plt.show()"
   ]
  },
  {
   "cell_type": "markdown",
   "id": "353c840a",
   "metadata": {},
   "source": [
    "### 2.5 Floor"
   ]
  },
  {
   "cell_type": "code",
   "execution_count": 37,
   "id": "62a20149",
   "metadata": {},
   "outputs": [],
   "source": [
    "# data['floor'] = np.where(data['floor']=='bj', 'bj', 'no bj')\n",
    "data.drop(['floor'],axis=1,inplace=True)"
   ]
  },
  {
   "cell_type": "markdown",
   "id": "8e7d2c4e",
   "metadata": {},
   "source": [
    "### 2.6 Exterior"
   ]
  },
  {
   "cell_type": "code",
   "execution_count": 38,
   "id": "507ad629",
   "metadata": {},
   "outputs": [],
   "source": [
    "# data['exterior'] = np.where(data['exterior']=='unk', 'True', 'False')\n",
    "data.drop(['exterior'],axis=1,inplace=True)"
   ]
  },
  {
   "cell_type": "markdown",
   "id": "d5054676",
   "metadata": {},
   "source": [
    "### 2.7 District"
   ]
  },
  {
   "cell_type": "code",
   "execution_count": 39,
   "id": "bcc99892",
   "metadata": {},
   "outputs": [],
   "source": [
    "data = data[data['district']!='San Adrián - La Peña'].reset_index(drop=True)"
   ]
  },
  {
   "cell_type": "markdown",
   "id": "618e9525",
   "metadata": {},
   "source": [
    "### 2.8 Neighborhood"
   ]
  },
  {
   "cell_type": "code",
   "execution_count": 40,
   "id": "3c62b28f",
   "metadata": {},
   "outputs": [],
   "source": [
    "data = data[\n",
    "    (data['neighborhood'] != 'Plaza Circular') &\n",
    "    (data['neighborhood'] != 'Sabino Arana-Jesuitas') &\n",
    "    (data['neighborhood'] != 'Mirador de Bilbao-Maurice Ravel') &\n",
    "    (data['neighborhood'] != 'Uretamendi-Betolaza-Peñaskal') &\n",
    "    (data['neighborhood'] != 'Altamira') &\n",
    "    (data['neighborhood'] != 'Artatzu-Larraskitu') &\n",
    "    (data['neighborhood'] != 'Albia')\n",
    "].reset_index(drop=True)"
   ]
  },
  {
   "cell_type": "markdown",
   "id": "73afe67a",
   "metadata": {},
   "source": [
    "### 2.9 Parking"
   ]
  },
  {
   "cell_type": "code",
   "execution_count": 41,
   "id": "3593ed3f",
   "metadata": {},
   "outputs": [],
   "source": [
    "data = data[data['parking']!='parking included in price'].reset_index(drop=True)\n",
    "data.drop(['parking'],axis=1,inplace=True)"
   ]
  },
  {
   "cell_type": "markdown",
   "id": "06319e50",
   "metadata": {},
   "source": [
    "### 2.10 Reform"
   ]
  },
  {
   "cell_type": "code",
   "execution_count": 42,
   "id": "c64c6cee",
   "metadata": {},
   "outputs": [
    {
     "data": {
      "text/html": [
       "<div>\n",
       "<style scoped>\n",
       "    .dataframe tbody tr th:only-of-type {\n",
       "        vertical-align: middle;\n",
       "    }\n",
       "\n",
       "    .dataframe tbody tr th {\n",
       "        vertical-align: top;\n",
       "    }\n",
       "\n",
       "    .dataframe thead th {\n",
       "        text-align: right;\n",
       "    }\n",
       "</style>\n",
       "<table border=\"1\" class=\"dataframe\">\n",
       "  <thead>\n",
       "    <tr style=\"text-align: right;\">\n",
       "      <th></th>\n",
       "      <th>code</th>\n",
       "      <th>price</th>\n",
       "      <th>size</th>\n",
       "      <th>district</th>\n",
       "      <th>neighborhood</th>\n",
       "      <th>latitude</th>\n",
       "      <th>longitude</th>\n",
       "      <th>status</th>\n",
       "      <th>lift</th>\n",
       "    </tr>\n",
       "  </thead>\n",
       "  <tbody>\n",
       "    <tr>\n",
       "      <th>0</th>\n",
       "      <td>100138386</td>\n",
       "      <td>175000.0</td>\n",
       "      <td>75.0</td>\n",
       "      <td>Ibaiondo</td>\n",
       "      <td>Iturralde</td>\n",
       "      <td>43.255686</td>\n",
       "      <td>-2.914069</td>\n",
       "      <td>good</td>\n",
       "      <td>True</td>\n",
       "    </tr>\n",
       "    <tr>\n",
       "      <th>1</th>\n",
       "      <td>28897633</td>\n",
       "      <td>160000.0</td>\n",
       "      <td>106.0</td>\n",
       "      <td>Casco Viejo</td>\n",
       "      <td>Casco Viejo</td>\n",
       "      <td>43.254804</td>\n",
       "      <td>-2.921749</td>\n",
       "      <td>good</td>\n",
       "      <td>False</td>\n",
       "    </tr>\n",
       "    <tr>\n",
       "      <th>2</th>\n",
       "      <td>93866569</td>\n",
       "      <td>98000.0</td>\n",
       "      <td>55.0</td>\n",
       "      <td>Ibaiondo</td>\n",
       "      <td>San Francisco</td>\n",
       "      <td>43.255543</td>\n",
       "      <td>-2.926948</td>\n",
       "      <td>good</td>\n",
       "      <td>False</td>\n",
       "    </tr>\n",
       "    <tr>\n",
       "      <th>3</th>\n",
       "      <td>93696863</td>\n",
       "      <td>98000.0</td>\n",
       "      <td>55.0</td>\n",
       "      <td>Ibaiondo</td>\n",
       "      <td>San Francisco</td>\n",
       "      <td>43.255326</td>\n",
       "      <td>-2.928032</td>\n",
       "      <td>renew</td>\n",
       "      <td>False</td>\n",
       "    </tr>\n",
       "    <tr>\n",
       "      <th>4</th>\n",
       "      <td>102308703</td>\n",
       "      <td>219990.0</td>\n",
       "      <td>79.0</td>\n",
       "      <td>Ibaiondo</td>\n",
       "      <td>Solokoetxe</td>\n",
       "      <td>43.256658</td>\n",
       "      <td>-2.917962</td>\n",
       "      <td>good</td>\n",
       "      <td>True</td>\n",
       "    </tr>\n",
       "    <tr>\n",
       "      <th>...</th>\n",
       "      <td>...</td>\n",
       "      <td>...</td>\n",
       "      <td>...</td>\n",
       "      <td>...</td>\n",
       "      <td>...</td>\n",
       "      <td>...</td>\n",
       "      <td>...</td>\n",
       "      <td>...</td>\n",
       "      <td>...</td>\n",
       "    </tr>\n",
       "    <tr>\n",
       "      <th>1497</th>\n",
       "      <td>102425478</td>\n",
       "      <td>298000.0</td>\n",
       "      <td>75.0</td>\n",
       "      <td>Casco Viejo</td>\n",
       "      <td>Casco Viejo</td>\n",
       "      <td>43.256021</td>\n",
       "      <td>-2.921702</td>\n",
       "      <td>good</td>\n",
       "      <td>False</td>\n",
       "    </tr>\n",
       "    <tr>\n",
       "      <th>1498</th>\n",
       "      <td>87453586</td>\n",
       "      <td>430000.0</td>\n",
       "      <td>140.0</td>\n",
       "      <td>Ibaiondo</td>\n",
       "      <td>San Francisco</td>\n",
       "      <td>43.256149</td>\n",
       "      <td>-2.928077</td>\n",
       "      <td>good</td>\n",
       "      <td>False</td>\n",
       "    </tr>\n",
       "    <tr>\n",
       "      <th>1499</th>\n",
       "      <td>99641521</td>\n",
       "      <td>360000.0</td>\n",
       "      <td>75.0</td>\n",
       "      <td>Abando - Albia</td>\n",
       "      <td>Abandoibarra-Guggenheim</td>\n",
       "      <td>43.265867</td>\n",
       "      <td>-2.932324</td>\n",
       "      <td>good</td>\n",
       "      <td>True</td>\n",
       "    </tr>\n",
       "    <tr>\n",
       "      <th>1500</th>\n",
       "      <td>101966119</td>\n",
       "      <td>270000.0</td>\n",
       "      <td>77.0</td>\n",
       "      <td>Rekalde</td>\n",
       "      <td>Ametzola</td>\n",
       "      <td>43.256104</td>\n",
       "      <td>-2.937813</td>\n",
       "      <td>good</td>\n",
       "      <td>True</td>\n",
       "    </tr>\n",
       "    <tr>\n",
       "      <th>1501</th>\n",
       "      <td>94858549</td>\n",
       "      <td>365000.0</td>\n",
       "      <td>125.0</td>\n",
       "      <td>Abando - Albia</td>\n",
       "      <td>Abandoibarra-Guggenheim</td>\n",
       "      <td>43.268293</td>\n",
       "      <td>-2.940208</td>\n",
       "      <td>renew</td>\n",
       "      <td>True</td>\n",
       "    </tr>\n",
       "  </tbody>\n",
       "</table>\n",
       "<p>1502 rows × 9 columns</p>\n",
       "</div>"
      ],
      "text/plain": [
       "           code     price   size        district             neighborhood  \\\n",
       "0     100138386  175000.0   75.0        Ibaiondo                Iturralde   \n",
       "1      28897633  160000.0  106.0     Casco Viejo              Casco Viejo   \n",
       "2      93866569   98000.0   55.0        Ibaiondo            San Francisco   \n",
       "3      93696863   98000.0   55.0        Ibaiondo            San Francisco   \n",
       "4     102308703  219990.0   79.0        Ibaiondo               Solokoetxe   \n",
       "...         ...       ...    ...             ...                      ...   \n",
       "1497  102425478  298000.0   75.0     Casco Viejo              Casco Viejo   \n",
       "1498   87453586  430000.0  140.0        Ibaiondo            San Francisco   \n",
       "1499   99641521  360000.0   75.0  Abando - Albia  Abandoibarra-Guggenheim   \n",
       "1500  101966119  270000.0   77.0         Rekalde                 Ametzola   \n",
       "1501   94858549  365000.0  125.0  Abando - Albia  Abandoibarra-Guggenheim   \n",
       "\n",
       "       latitude  longitude status   lift  \n",
       "0     43.255686  -2.914069   good   True  \n",
       "1     43.254804  -2.921749   good  False  \n",
       "2     43.255543  -2.926948   good  False  \n",
       "3     43.255326  -2.928032  renew  False  \n",
       "4     43.256658  -2.917962   good   True  \n",
       "...         ...        ...    ...    ...  \n",
       "1497  43.256021  -2.921702   good  False  \n",
       "1498  43.256149  -2.928077   good  False  \n",
       "1499  43.265867  -2.932324   good   True  \n",
       "1500  43.256104  -2.937813   good   True  \n",
       "1501  43.268293  -2.940208  renew   True  \n",
       "\n",
       "[1502 rows x 9 columns]"
      ]
     },
     "execution_count": 42,
     "metadata": {},
     "output_type": "execute_result"
    }
   ],
   "source": [
    "data"
   ]
  },
  {
   "cell_type": "code",
   "execution_count": 43,
   "id": "7dc4e1b3",
   "metadata": {},
   "outputs": [],
   "source": [
    "data = data[data['status'] == 'renew'].reset_index(drop = True)"
   ]
  },
  {
   "cell_type": "code",
   "execution_count": 44,
   "id": "ff8547bb",
   "metadata": {},
   "outputs": [],
   "source": [
    "data.drop(['status'], axis=1, inplace=True)"
   ]
  },
  {
   "cell_type": "markdown",
   "id": "b33e25e1",
   "metadata": {},
   "source": [
    "# 3. Modelling"
   ]
  },
  {
   "cell_type": "markdown",
   "id": "58a283dd",
   "metadata": {},
   "source": [
    "### 3.1 Split"
   ]
  },
  {
   "cell_type": "code",
   "execution_count": 45,
   "id": "1bcbdf71",
   "metadata": {},
   "outputs": [],
   "source": [
    "y = data['price']\n",
    "X = data.drop(['price', 'code'], axis=1)"
   ]
  },
  {
   "cell_type": "code",
   "execution_count": 46,
   "id": "1a1f967f",
   "metadata": {},
   "outputs": [],
   "source": [
    "X_train, X_test, y_train, y_test = train_test_split(X, y, test_size=0.1)"
   ]
  },
  {
   "cell_type": "code",
   "execution_count": 47,
   "id": "9e8aecb4",
   "metadata": {},
   "outputs": [],
   "source": [
    "X_train_cat = X_train.select_dtypes('object').reset_index(drop=True)\n",
    "X_test_cat = X_test.select_dtypes('object').reset_index(drop=True)\n",
    "X_train_num = X_train.select_dtypes(include = np.number).reset_index(drop=True)\n",
    "X_test_num = X_test.select_dtypes(include = np.number).reset_index(drop=True)"
   ]
  },
  {
   "cell_type": "code",
   "execution_count": 48,
   "id": "b851d044",
   "metadata": {},
   "outputs": [],
   "source": [
    "# X_train_num"
   ]
  },
  {
   "cell_type": "code",
   "execution_count": 49,
   "id": "9b42a10e",
   "metadata": {},
   "outputs": [],
   "source": [
    "scaler = MinMaxScaler()\n",
    "scaler.fit(X_train_num)\n",
    "\n",
    "X_train_nor = pd.DataFrame(scaler.transform(X_train_num), columns=X_train_num.columns)\n",
    "X_test_nor = pd.DataFrame(scaler.transform(X_test_num), columns=X_test_num.columns)"
   ]
  },
  {
   "cell_type": "code",
   "execution_count": 50,
   "id": "5b5abf19",
   "metadata": {},
   "outputs": [],
   "source": [
    "encoder = OneHotEncoder(drop='first', sparse=False)\n",
    "encoder.fit(X_train_cat)\n",
    "\n",
    "encoded_train = encoder.transform(X_train_cat)\n",
    "X_train_cat_encoded = pd.DataFrame(encoded_train, columns=encoder.get_feature_names_out(X_train_cat.columns))\n",
    "\n",
    "encoded_test = encoder.transform(X_test_cat)\n",
    "X_test_cat_encoded = pd.DataFrame(encoded_test, columns=encoder.get_feature_names_out(X_test_cat.columns))"
   ]
  },
  {
   "cell_type": "code",
   "execution_count": 51,
   "id": "063fc55d",
   "metadata": {},
   "outputs": [],
   "source": [
    "X_train = pd.concat([X_train_nor, X_train_cat_encoded],axis=1)\n",
    "X_test = pd.concat([X_test_nor, X_test_cat_encoded],axis=1)"
   ]
  },
  {
   "cell_type": "code",
   "execution_count": 52,
   "id": "2f3c4987",
   "metadata": {},
   "outputs": [],
   "source": [
    "X_train.columns = X_train.columns.astype(str)\n",
    "X_test.columns = X_test.columns.astype(str)"
   ]
  },
  {
   "cell_type": "markdown",
   "id": "f16acd5a",
   "metadata": {},
   "source": [
    "### 3.2 Linear Regression"
   ]
  },
  {
   "cell_type": "code",
   "execution_count": 53,
   "id": "c96c845b",
   "metadata": {},
   "outputs": [],
   "source": [
    "model = linear_model.LinearRegression()"
   ]
  },
  {
   "cell_type": "code",
   "execution_count": 54,
   "id": "dc5ca0d2",
   "metadata": {},
   "outputs": [
    {
     "data": {
      "text/html": [
       "<style>#sk-container-id-1 {color: black;background-color: white;}#sk-container-id-1 pre{padding: 0;}#sk-container-id-1 div.sk-toggleable {background-color: white;}#sk-container-id-1 label.sk-toggleable__label {cursor: pointer;display: block;width: 100%;margin-bottom: 0;padding: 0.3em;box-sizing: border-box;text-align: center;}#sk-container-id-1 label.sk-toggleable__label-arrow:before {content: \"▸\";float: left;margin-right: 0.25em;color: #696969;}#sk-container-id-1 label.sk-toggleable__label-arrow:hover:before {color: black;}#sk-container-id-1 div.sk-estimator:hover label.sk-toggleable__label-arrow:before {color: black;}#sk-container-id-1 div.sk-toggleable__content {max-height: 0;max-width: 0;overflow: hidden;text-align: left;background-color: #f0f8ff;}#sk-container-id-1 div.sk-toggleable__content pre {margin: 0.2em;color: black;border-radius: 0.25em;background-color: #f0f8ff;}#sk-container-id-1 input.sk-toggleable__control:checked~div.sk-toggleable__content {max-height: 200px;max-width: 100%;overflow: auto;}#sk-container-id-1 input.sk-toggleable__control:checked~label.sk-toggleable__label-arrow:before {content: \"▾\";}#sk-container-id-1 div.sk-estimator input.sk-toggleable__control:checked~label.sk-toggleable__label {background-color: #d4ebff;}#sk-container-id-1 div.sk-label input.sk-toggleable__control:checked~label.sk-toggleable__label {background-color: #d4ebff;}#sk-container-id-1 input.sk-hidden--visually {border: 0;clip: rect(1px 1px 1px 1px);clip: rect(1px, 1px, 1px, 1px);height: 1px;margin: -1px;overflow: hidden;padding: 0;position: absolute;width: 1px;}#sk-container-id-1 div.sk-estimator {font-family: monospace;background-color: #f0f8ff;border: 1px dotted black;border-radius: 0.25em;box-sizing: border-box;margin-bottom: 0.5em;}#sk-container-id-1 div.sk-estimator:hover {background-color: #d4ebff;}#sk-container-id-1 div.sk-parallel-item::after {content: \"\";width: 100%;border-bottom: 1px solid gray;flex-grow: 1;}#sk-container-id-1 div.sk-label:hover label.sk-toggleable__label {background-color: #d4ebff;}#sk-container-id-1 div.sk-serial::before {content: \"\";position: absolute;border-left: 1px solid gray;box-sizing: border-box;top: 0;bottom: 0;left: 50%;z-index: 0;}#sk-container-id-1 div.sk-serial {display: flex;flex-direction: column;align-items: center;background-color: white;padding-right: 0.2em;padding-left: 0.2em;position: relative;}#sk-container-id-1 div.sk-item {position: relative;z-index: 1;}#sk-container-id-1 div.sk-parallel {display: flex;align-items: stretch;justify-content: center;background-color: white;position: relative;}#sk-container-id-1 div.sk-item::before, #sk-container-id-1 div.sk-parallel-item::before {content: \"\";position: absolute;border-left: 1px solid gray;box-sizing: border-box;top: 0;bottom: 0;left: 50%;z-index: -1;}#sk-container-id-1 div.sk-parallel-item {display: flex;flex-direction: column;z-index: 1;position: relative;background-color: white;}#sk-container-id-1 div.sk-parallel-item:first-child::after {align-self: flex-end;width: 50%;}#sk-container-id-1 div.sk-parallel-item:last-child::after {align-self: flex-start;width: 50%;}#sk-container-id-1 div.sk-parallel-item:only-child::after {width: 0;}#sk-container-id-1 div.sk-dashed-wrapped {border: 1px dashed gray;margin: 0 0.4em 0.5em 0.4em;box-sizing: border-box;padding-bottom: 0.4em;background-color: white;}#sk-container-id-1 div.sk-label label {font-family: monospace;font-weight: bold;display: inline-block;line-height: 1.2em;}#sk-container-id-1 div.sk-label-container {text-align: center;}#sk-container-id-1 div.sk-container {/* jupyter's `normalize.less` sets `[hidden] { display: none; }` but bootstrap.min.css set `[hidden] { display: none !important; }` so we also need the `!important` here to be able to override the default hidden behavior on the sphinx rendered scikit-learn.org. See: https://github.com/scikit-learn/scikit-learn/issues/21755 */display: inline-block !important;position: relative;}#sk-container-id-1 div.sk-text-repr-fallback {display: none;}</style><div id=\"sk-container-id-1\" class=\"sk-top-container\"><div class=\"sk-text-repr-fallback\"><pre>LinearRegression()</pre><b>In a Jupyter environment, please rerun this cell to show the HTML representation or trust the notebook. <br />On GitHub, the HTML representation is unable to render, please try loading this page with nbviewer.org.</b></div><div class=\"sk-container\" hidden><div class=\"sk-item\"><div class=\"sk-estimator sk-toggleable\"><input class=\"sk-toggleable__control sk-hidden--visually\" id=\"sk-estimator-id-1\" type=\"checkbox\" checked><label for=\"sk-estimator-id-1\" class=\"sk-toggleable__label sk-toggleable__label-arrow\">LinearRegression</label><div class=\"sk-toggleable__content\"><pre>LinearRegression()</pre></div></div></div></div></div>"
      ],
      "text/plain": [
       "LinearRegression()"
      ]
     },
     "execution_count": 54,
     "metadata": {},
     "output_type": "execute_result"
    }
   ],
   "source": [
    "model.fit(X_train, y_train)"
   ]
  },
  {
   "cell_type": "code",
   "execution_count": 55,
   "id": "c43f7a8e",
   "metadata": {},
   "outputs": [],
   "source": [
    "predictions = model.predict(X_test)"
   ]
  },
  {
   "cell_type": "code",
   "execution_count": 56,
   "id": "4ff0f446",
   "metadata": {},
   "outputs": [],
   "source": [
    "model.score(X_test, y_test)\n",
    "\n",
    "r2 = r2_score(y_test, predictions)\n",
    "\n",
    "mse = mean_squared_error(y_test, predictions)\n",
    "\n",
    "rmse = np.sqrt(mean_squared_error(y_test, predictions))\n",
    "\n",
    "mae = mean_absolute_error(y_test, predictions)"
   ]
  },
  {
   "cell_type": "code",
   "execution_count": 57,
   "id": "62ed52e6",
   "metadata": {},
   "outputs": [
    {
     "data": {
      "text/plain": [
       "0.8726017240029589"
      ]
     },
     "execution_count": 57,
     "metadata": {},
     "output_type": "execute_result"
    }
   ],
   "source": [
    "r2"
   ]
  },
  {
   "cell_type": "code",
   "execution_count": 58,
   "id": "d7577e04",
   "metadata": {},
   "outputs": [
    {
     "data": {
      "text/plain": [
       "1493850912.4691634"
      ]
     },
     "execution_count": 58,
     "metadata": {},
     "output_type": "execute_result"
    }
   ],
   "source": [
    "mse"
   ]
  },
  {
   "cell_type": "code",
   "execution_count": 59,
   "id": "b5793d77",
   "metadata": {},
   "outputs": [
    {
     "data": {
      "text/plain": [
       "38650.36755930225"
      ]
     },
     "execution_count": 59,
     "metadata": {},
     "output_type": "execute_result"
    }
   ],
   "source": [
    "rmse"
   ]
  },
  {
   "cell_type": "markdown",
   "id": "d2bc451d",
   "metadata": {},
   "source": [
    "### 3.2 Logistic Regression"
   ]
  },
  {
   "cell_type": "code",
   "execution_count": 60,
   "id": "2b05e21d",
   "metadata": {},
   "outputs": [
    {
     "data": {
      "text/html": [
       "<style>#sk-container-id-2 {color: black;background-color: white;}#sk-container-id-2 pre{padding: 0;}#sk-container-id-2 div.sk-toggleable {background-color: white;}#sk-container-id-2 label.sk-toggleable__label {cursor: pointer;display: block;width: 100%;margin-bottom: 0;padding: 0.3em;box-sizing: border-box;text-align: center;}#sk-container-id-2 label.sk-toggleable__label-arrow:before {content: \"▸\";float: left;margin-right: 0.25em;color: #696969;}#sk-container-id-2 label.sk-toggleable__label-arrow:hover:before {color: black;}#sk-container-id-2 div.sk-estimator:hover label.sk-toggleable__label-arrow:before {color: black;}#sk-container-id-2 div.sk-toggleable__content {max-height: 0;max-width: 0;overflow: hidden;text-align: left;background-color: #f0f8ff;}#sk-container-id-2 div.sk-toggleable__content pre {margin: 0.2em;color: black;border-radius: 0.25em;background-color: #f0f8ff;}#sk-container-id-2 input.sk-toggleable__control:checked~div.sk-toggleable__content {max-height: 200px;max-width: 100%;overflow: auto;}#sk-container-id-2 input.sk-toggleable__control:checked~label.sk-toggleable__label-arrow:before {content: \"▾\";}#sk-container-id-2 div.sk-estimator input.sk-toggleable__control:checked~label.sk-toggleable__label {background-color: #d4ebff;}#sk-container-id-2 div.sk-label input.sk-toggleable__control:checked~label.sk-toggleable__label {background-color: #d4ebff;}#sk-container-id-2 input.sk-hidden--visually {border: 0;clip: rect(1px 1px 1px 1px);clip: rect(1px, 1px, 1px, 1px);height: 1px;margin: -1px;overflow: hidden;padding: 0;position: absolute;width: 1px;}#sk-container-id-2 div.sk-estimator {font-family: monospace;background-color: #f0f8ff;border: 1px dotted black;border-radius: 0.25em;box-sizing: border-box;margin-bottom: 0.5em;}#sk-container-id-2 div.sk-estimator:hover {background-color: #d4ebff;}#sk-container-id-2 div.sk-parallel-item::after {content: \"\";width: 100%;border-bottom: 1px solid gray;flex-grow: 1;}#sk-container-id-2 div.sk-label:hover label.sk-toggleable__label {background-color: #d4ebff;}#sk-container-id-2 div.sk-serial::before {content: \"\";position: absolute;border-left: 1px solid gray;box-sizing: border-box;top: 0;bottom: 0;left: 50%;z-index: 0;}#sk-container-id-2 div.sk-serial {display: flex;flex-direction: column;align-items: center;background-color: white;padding-right: 0.2em;padding-left: 0.2em;position: relative;}#sk-container-id-2 div.sk-item {position: relative;z-index: 1;}#sk-container-id-2 div.sk-parallel {display: flex;align-items: stretch;justify-content: center;background-color: white;position: relative;}#sk-container-id-2 div.sk-item::before, #sk-container-id-2 div.sk-parallel-item::before {content: \"\";position: absolute;border-left: 1px solid gray;box-sizing: border-box;top: 0;bottom: 0;left: 50%;z-index: -1;}#sk-container-id-2 div.sk-parallel-item {display: flex;flex-direction: column;z-index: 1;position: relative;background-color: white;}#sk-container-id-2 div.sk-parallel-item:first-child::after {align-self: flex-end;width: 50%;}#sk-container-id-2 div.sk-parallel-item:last-child::after {align-self: flex-start;width: 50%;}#sk-container-id-2 div.sk-parallel-item:only-child::after {width: 0;}#sk-container-id-2 div.sk-dashed-wrapped {border: 1px dashed gray;margin: 0 0.4em 0.5em 0.4em;box-sizing: border-box;padding-bottom: 0.4em;background-color: white;}#sk-container-id-2 div.sk-label label {font-family: monospace;font-weight: bold;display: inline-block;line-height: 1.2em;}#sk-container-id-2 div.sk-label-container {text-align: center;}#sk-container-id-2 div.sk-container {/* jupyter's `normalize.less` sets `[hidden] { display: none; }` but bootstrap.min.css set `[hidden] { display: none !important; }` so we also need the `!important` here to be able to override the default hidden behavior on the sphinx rendered scikit-learn.org. See: https://github.com/scikit-learn/scikit-learn/issues/21755 */display: inline-block !important;position: relative;}#sk-container-id-2 div.sk-text-repr-fallback {display: none;}</style><div id=\"sk-container-id-2\" class=\"sk-top-container\"><div class=\"sk-text-repr-fallback\"><pre>LogisticRegression()</pre><b>In a Jupyter environment, please rerun this cell to show the HTML representation or trust the notebook. <br />On GitHub, the HTML representation is unable to render, please try loading this page with nbviewer.org.</b></div><div class=\"sk-container\" hidden><div class=\"sk-item\"><div class=\"sk-estimator sk-toggleable\"><input class=\"sk-toggleable__control sk-hidden--visually\" id=\"sk-estimator-id-2\" type=\"checkbox\" checked><label for=\"sk-estimator-id-2\" class=\"sk-toggleable__label sk-toggleable__label-arrow\">LogisticRegression</label><div class=\"sk-toggleable__content\"><pre>LogisticRegression()</pre></div></div></div></div></div>"
      ],
      "text/plain": [
       "LogisticRegression()"
      ]
     },
     "execution_count": 60,
     "metadata": {},
     "output_type": "execute_result"
    }
   ],
   "source": [
    "model = LogisticRegression()\n",
    "model.fit(X_train, y_train)"
   ]
  },
  {
   "cell_type": "code",
   "execution_count": 61,
   "id": "c6cf736d",
   "metadata": {},
   "outputs": [],
   "source": [
    "predictions = model.predict(X_test)"
   ]
  },
  {
   "cell_type": "code",
   "execution_count": 62,
   "id": "c32cb0a6",
   "metadata": {},
   "outputs": [],
   "source": [
    "model.score(X_test, y_test)\n",
    "\n",
    "r2 = r2_score(y_test, predictions)\n",
    "\n",
    "mse = mean_squared_error(y_test, predictions)\n",
    "\n",
    "rmse = np.sqrt(mean_squared_error(y_test, predictions))\n",
    "\n",
    "mae = mean_absolute_error(y_test, predictions)"
   ]
  },
  {
   "cell_type": "code",
   "execution_count": 63,
   "id": "a5a92b32",
   "metadata": {},
   "outputs": [
    {
     "data": {
      "text/plain": [
       "0.615843022798239"
      ]
     },
     "execution_count": 63,
     "metadata": {},
     "output_type": "execute_result"
    }
   ],
   "source": [
    "r2"
   ]
  },
  {
   "cell_type": "markdown",
   "id": "68e32b8a",
   "metadata": {},
   "source": [
    "### 3.3 KNeighbors"
   ]
  },
  {
   "cell_type": "code",
   "execution_count": 64,
   "id": "4d3ac520",
   "metadata": {},
   "outputs": [],
   "source": [
    "model = KNeighborsRegressor(n_neighbors=3)\n",
    "\n",
    "model.fit(X_train, y_train)\n",
    "\n",
    "predictions = model.predict(X_test)\n",
    "\n",
    "r2 = r2_score(y_test, predictions)\n",
    "\n",
    "mse = mean_squared_error(y_test, predictions)\n",
    "\n",
    "rmse = np.sqrt(mean_squared_error(y_test, predictions))\n",
    "\n",
    "mae = mean_absolute_error(y_test, predictions)"
   ]
  },
  {
   "cell_type": "code",
   "execution_count": 65,
   "id": "154bd95c",
   "metadata": {},
   "outputs": [
    {
     "data": {
      "text/plain": [
       "0.8861098790887163"
      ]
     },
     "execution_count": 65,
     "metadata": {},
     "output_type": "execute_result"
    }
   ],
   "source": [
    "r2"
   ]
  },
  {
   "cell_type": "markdown",
   "id": "a69ae270",
   "metadata": {},
   "source": [
    "# 4. Hypothesis Testing"
   ]
  },
  {
   "cell_type": "code",
   "execution_count": 66,
   "id": "99f3e2b9",
   "metadata": {},
   "outputs": [],
   "source": [
    "data['price_m2'] = data['price'] / data['size']"
   ]
  },
  {
   "cell_type": "code",
   "execution_count": 67,
   "id": "ee2d1078",
   "metadata": {},
   "outputs": [
    {
     "data": {
      "text/html": [
       "<div>\n",
       "<style scoped>\n",
       "    .dataframe tbody tr th:only-of-type {\n",
       "        vertical-align: middle;\n",
       "    }\n",
       "\n",
       "    .dataframe tbody tr th {\n",
       "        vertical-align: top;\n",
       "    }\n",
       "\n",
       "    .dataframe thead th {\n",
       "        text-align: right;\n",
       "    }\n",
       "</style>\n",
       "<table border=\"1\" class=\"dataframe\">\n",
       "  <thead>\n",
       "    <tr style=\"text-align: right;\">\n",
       "      <th></th>\n",
       "      <th>code</th>\n",
       "      <th>price</th>\n",
       "      <th>size</th>\n",
       "      <th>district</th>\n",
       "      <th>neighborhood</th>\n",
       "      <th>latitude</th>\n",
       "      <th>longitude</th>\n",
       "      <th>lift</th>\n",
       "      <th>price_m2</th>\n",
       "    </tr>\n",
       "  </thead>\n",
       "  <tbody>\n",
       "    <tr>\n",
       "      <th>0</th>\n",
       "      <td>93696863</td>\n",
       "      <td>98000.0</td>\n",
       "      <td>55.0</td>\n",
       "      <td>Ibaiondo</td>\n",
       "      <td>San Francisco</td>\n",
       "      <td>43.255326</td>\n",
       "      <td>-2.928032</td>\n",
       "      <td>False</td>\n",
       "      <td>1781.818182</td>\n",
       "    </tr>\n",
       "    <tr>\n",
       "      <th>1</th>\n",
       "      <td>97639670</td>\n",
       "      <td>325000.0</td>\n",
       "      <td>128.0</td>\n",
       "      <td>Indautxu</td>\n",
       "      <td>Zona Indautxu</td>\n",
       "      <td>43.256441</td>\n",
       "      <td>-2.942225</td>\n",
       "      <td>True</td>\n",
       "      <td>2539.062500</td>\n",
       "    </tr>\n",
       "    <tr>\n",
       "      <th>2</th>\n",
       "      <td>101330317</td>\n",
       "      <td>325000.0</td>\n",
       "      <td>135.0</td>\n",
       "      <td>Indautxu</td>\n",
       "      <td>Zona Indautxu</td>\n",
       "      <td>43.256348</td>\n",
       "      <td>-2.943154</td>\n",
       "      <td>True</td>\n",
       "      <td>2407.407407</td>\n",
       "    </tr>\n",
       "    <tr>\n",
       "      <th>3</th>\n",
       "      <td>101366980</td>\n",
       "      <td>109900.0</td>\n",
       "      <td>43.0</td>\n",
       "      <td>Uribarri</td>\n",
       "      <td>Uribarri</td>\n",
       "      <td>43.267381</td>\n",
       "      <td>-2.920286</td>\n",
       "      <td>False</td>\n",
       "      <td>2555.813953</td>\n",
       "    </tr>\n",
       "    <tr>\n",
       "      <th>4</th>\n",
       "      <td>101664385</td>\n",
       "      <td>109900.0</td>\n",
       "      <td>43.0</td>\n",
       "      <td>Uribarri</td>\n",
       "      <td>Uribarri</td>\n",
       "      <td>43.267455</td>\n",
       "      <td>-2.921487</td>\n",
       "      <td>False</td>\n",
       "      <td>2555.813953</td>\n",
       "    </tr>\n",
       "    <tr>\n",
       "      <th>...</th>\n",
       "      <td>...</td>\n",
       "      <td>...</td>\n",
       "      <td>...</td>\n",
       "      <td>...</td>\n",
       "      <td>...</td>\n",
       "      <td>...</td>\n",
       "      <td>...</td>\n",
       "      <td>...</td>\n",
       "      <td>...</td>\n",
       "    </tr>\n",
       "    <tr>\n",
       "      <th>338</th>\n",
       "      <td>101402819</td>\n",
       "      <td>220000.0</td>\n",
       "      <td>112.0</td>\n",
       "      <td>San Ignacio</td>\n",
       "      <td>San Ignacio</td>\n",
       "      <td>43.281752</td>\n",
       "      <td>-2.963841</td>\n",
       "      <td>True</td>\n",
       "      <td>1964.285714</td>\n",
       "    </tr>\n",
       "    <tr>\n",
       "      <th>339</th>\n",
       "      <td>101038369</td>\n",
       "      <td>183500.0</td>\n",
       "      <td>75.0</td>\n",
       "      <td>San Ignacio</td>\n",
       "      <td>San Ignacio</td>\n",
       "      <td>43.278126</td>\n",
       "      <td>-2.959256</td>\n",
       "      <td>False</td>\n",
       "      <td>2446.666667</td>\n",
       "    </tr>\n",
       "    <tr>\n",
       "      <th>340</th>\n",
       "      <td>102517724</td>\n",
       "      <td>145000.0</td>\n",
       "      <td>61.0</td>\n",
       "      <td>Ibaiondo</td>\n",
       "      <td>Solokoetxe</td>\n",
       "      <td>43.257646</td>\n",
       "      <td>-2.915536</td>\n",
       "      <td>True</td>\n",
       "      <td>2377.049180</td>\n",
       "    </tr>\n",
       "    <tr>\n",
       "      <th>341</th>\n",
       "      <td>101448721</td>\n",
       "      <td>325000.0</td>\n",
       "      <td>80.0</td>\n",
       "      <td>Abando - Albia</td>\n",
       "      <td>Zabalburu-Diputación</td>\n",
       "      <td>43.260056</td>\n",
       "      <td>-2.932812</td>\n",
       "      <td>True</td>\n",
       "      <td>4062.500000</td>\n",
       "    </tr>\n",
       "    <tr>\n",
       "      <th>342</th>\n",
       "      <td>94858549</td>\n",
       "      <td>365000.0</td>\n",
       "      <td>125.0</td>\n",
       "      <td>Abando - Albia</td>\n",
       "      <td>Abandoibarra-Guggenheim</td>\n",
       "      <td>43.268293</td>\n",
       "      <td>-2.940208</td>\n",
       "      <td>True</td>\n",
       "      <td>2920.000000</td>\n",
       "    </tr>\n",
       "  </tbody>\n",
       "</table>\n",
       "<p>343 rows × 9 columns</p>\n",
       "</div>"
      ],
      "text/plain": [
       "          code     price   size        district             neighborhood  \\\n",
       "0     93696863   98000.0   55.0        Ibaiondo            San Francisco   \n",
       "1     97639670  325000.0  128.0        Indautxu            Zona Indautxu   \n",
       "2    101330317  325000.0  135.0        Indautxu            Zona Indautxu   \n",
       "3    101366980  109900.0   43.0        Uribarri                 Uribarri   \n",
       "4    101664385  109900.0   43.0        Uribarri                 Uribarri   \n",
       "..         ...       ...    ...             ...                      ...   \n",
       "338  101402819  220000.0  112.0     San Ignacio              San Ignacio   \n",
       "339  101038369  183500.0   75.0     San Ignacio              San Ignacio   \n",
       "340  102517724  145000.0   61.0        Ibaiondo               Solokoetxe   \n",
       "341  101448721  325000.0   80.0  Abando - Albia     Zabalburu-Diputación   \n",
       "342   94858549  365000.0  125.0  Abando - Albia  Abandoibarra-Guggenheim   \n",
       "\n",
       "      latitude  longitude   lift     price_m2  \n",
       "0    43.255326  -2.928032  False  1781.818182  \n",
       "1    43.256441  -2.942225   True  2539.062500  \n",
       "2    43.256348  -2.943154   True  2407.407407  \n",
       "3    43.267381  -2.920286  False  2555.813953  \n",
       "4    43.267455  -2.921487  False  2555.813953  \n",
       "..         ...        ...    ...          ...  \n",
       "338  43.281752  -2.963841   True  1964.285714  \n",
       "339  43.278126  -2.959256  False  2446.666667  \n",
       "340  43.257646  -2.915536   True  2377.049180  \n",
       "341  43.260056  -2.932812   True  4062.500000  \n",
       "342  43.268293  -2.940208   True  2920.000000  \n",
       "\n",
       "[343 rows x 9 columns]"
      ]
     },
     "execution_count": 67,
     "metadata": {},
     "output_type": "execute_result"
    }
   ],
   "source": [
    "data"
   ]
  },
  {
   "cell_type": "code",
   "execution_count": 70,
   "id": "7c7dcade",
   "metadata": {},
   "outputs": [
    {
     "data": {
      "text/html": [
       "<div>\n",
       "<style scoped>\n",
       "    .dataframe tbody tr th:only-of-type {\n",
       "        vertical-align: middle;\n",
       "    }\n",
       "\n",
       "    .dataframe tbody tr th {\n",
       "        vertical-align: top;\n",
       "    }\n",
       "\n",
       "    .dataframe thead th {\n",
       "        text-align: right;\n",
       "    }\n",
       "</style>\n",
       "<table border=\"1\" class=\"dataframe\">\n",
       "  <thead>\n",
       "    <tr style=\"text-align: right;\">\n",
       "      <th></th>\n",
       "      <th>code</th>\n",
       "      <th>price</th>\n",
       "      <th>size</th>\n",
       "      <th>latitude</th>\n",
       "      <th>longitude</th>\n",
       "      <th>price_m2</th>\n",
       "    </tr>\n",
       "  </thead>\n",
       "  <tbody>\n",
       "    <tr>\n",
       "      <th>count</th>\n",
       "      <td>5.300000e+01</td>\n",
       "      <td>53.000000</td>\n",
       "      <td>53.000000</td>\n",
       "      <td>53.000000</td>\n",
       "      <td>53.000000</td>\n",
       "      <td>53.000000</td>\n",
       "    </tr>\n",
       "    <tr>\n",
       "      <th>mean</th>\n",
       "      <td>9.750120e+07</td>\n",
       "      <td>175075.471698</td>\n",
       "      <td>87.754717</td>\n",
       "      <td>43.255487</td>\n",
       "      <td>-2.925537</td>\n",
       "      <td>2026.364944</td>\n",
       "    </tr>\n",
       "    <tr>\n",
       "      <th>std</th>\n",
       "      <td>1.398709e+07</td>\n",
       "      <td>54904.542707</td>\n",
       "      <td>24.172382</td>\n",
       "      <td>0.002494</td>\n",
       "      <td>0.005913</td>\n",
       "      <td>496.207029</td>\n",
       "    </tr>\n",
       "    <tr>\n",
       "      <th>min</th>\n",
       "      <td>2.889331e+07</td>\n",
       "      <td>85000.000000</td>\n",
       "      <td>48.000000</td>\n",
       "      <td>43.249536</td>\n",
       "      <td>-2.935879</td>\n",
       "      <td>1243.750000</td>\n",
       "    </tr>\n",
       "    <tr>\n",
       "      <th>25%</th>\n",
       "      <td>9.920209e+07</td>\n",
       "      <td>130000.000000</td>\n",
       "      <td>73.000000</td>\n",
       "      <td>43.253690</td>\n",
       "      <td>-2.930233</td>\n",
       "      <td>1666.666667</td>\n",
       "    </tr>\n",
       "    <tr>\n",
       "      <th>50%</th>\n",
       "      <td>1.012375e+08</td>\n",
       "      <td>175000.000000</td>\n",
       "      <td>83.000000</td>\n",
       "      <td>43.255593</td>\n",
       "      <td>-2.927386</td>\n",
       "      <td>1931.034483</td>\n",
       "    </tr>\n",
       "    <tr>\n",
       "      <th>75%</th>\n",
       "      <td>1.020135e+08</td>\n",
       "      <td>215000.000000</td>\n",
       "      <td>100.000000</td>\n",
       "      <td>43.257617</td>\n",
       "      <td>-2.920326</td>\n",
       "      <td>2388.888889</td>\n",
       "    </tr>\n",
       "    <tr>\n",
       "      <th>max</th>\n",
       "      <td>1.027157e+08</td>\n",
       "      <td>380000.000000</td>\n",
       "      <td>170.000000</td>\n",
       "      <td>43.260981</td>\n",
       "      <td>-2.915536</td>\n",
       "      <td>3500.000000</td>\n",
       "    </tr>\n",
       "  </tbody>\n",
       "</table>\n",
       "</div>"
      ],
      "text/plain": [
       "               code          price        size   latitude  longitude  \\\n",
       "count  5.300000e+01      53.000000   53.000000  53.000000  53.000000   \n",
       "mean   9.750120e+07  175075.471698   87.754717  43.255487  -2.925537   \n",
       "std    1.398709e+07   54904.542707   24.172382   0.002494   0.005913   \n",
       "min    2.889331e+07   85000.000000   48.000000  43.249536  -2.935879   \n",
       "25%    9.920209e+07  130000.000000   73.000000  43.253690  -2.930233   \n",
       "50%    1.012375e+08  175000.000000   83.000000  43.255593  -2.927386   \n",
       "75%    1.020135e+08  215000.000000  100.000000  43.257617  -2.920326   \n",
       "max    1.027157e+08  380000.000000  170.000000  43.260981  -2.915536   \n",
       "\n",
       "          price_m2  \n",
       "count    53.000000  \n",
       "mean   2026.364944  \n",
       "std     496.207029  \n",
       "min    1243.750000  \n",
       "25%    1666.666667  \n",
       "50%    1931.034483  \n",
       "75%    2388.888889  \n",
       "max    3500.000000  "
      ]
     },
     "execution_count": 70,
     "metadata": {},
     "output_type": "execute_result"
    }
   ],
   "source": [
    "data_ibaiondo = data[(data['district'] == 'Ibaiondo')]\n",
    "\n",
    "data_ibaiondo.describe()"
   ]
  },
  {
   "cell_type": "code",
   "execution_count": 71,
   "id": "fed07e96",
   "metadata": {},
   "outputs": [
    {
     "data": {
      "text/html": [
       "<div>\n",
       "<style scoped>\n",
       "    .dataframe tbody tr th:only-of-type {\n",
       "        vertical-align: middle;\n",
       "    }\n",
       "\n",
       "    .dataframe tbody tr th {\n",
       "        vertical-align: top;\n",
       "    }\n",
       "\n",
       "    .dataframe thead th {\n",
       "        text-align: right;\n",
       "    }\n",
       "</style>\n",
       "<table border=\"1\" class=\"dataframe\">\n",
       "  <thead>\n",
       "    <tr style=\"text-align: right;\">\n",
       "      <th></th>\n",
       "      <th>code</th>\n",
       "      <th>price</th>\n",
       "      <th>size</th>\n",
       "      <th>latitude</th>\n",
       "      <th>longitude</th>\n",
       "      <th>price_m2</th>\n",
       "    </tr>\n",
       "  </thead>\n",
       "  <tbody>\n",
       "    <tr>\n",
       "      <th>count</th>\n",
       "      <td>5.300000e+01</td>\n",
       "      <td>53.000000</td>\n",
       "      <td>53.000000</td>\n",
       "      <td>53.000000</td>\n",
       "      <td>53.000000</td>\n",
       "      <td>53.000000</td>\n",
       "    </tr>\n",
       "    <tr>\n",
       "      <th>mean</th>\n",
       "      <td>9.750120e+07</td>\n",
       "      <td>175075.471698</td>\n",
       "      <td>87.754717</td>\n",
       "      <td>43.255487</td>\n",
       "      <td>-2.925537</td>\n",
       "      <td>2026.364944</td>\n",
       "    </tr>\n",
       "    <tr>\n",
       "      <th>std</th>\n",
       "      <td>1.398709e+07</td>\n",
       "      <td>54904.542707</td>\n",
       "      <td>24.172382</td>\n",
       "      <td>0.002494</td>\n",
       "      <td>0.005913</td>\n",
       "      <td>496.207029</td>\n",
       "    </tr>\n",
       "    <tr>\n",
       "      <th>min</th>\n",
       "      <td>2.889331e+07</td>\n",
       "      <td>85000.000000</td>\n",
       "      <td>48.000000</td>\n",
       "      <td>43.249536</td>\n",
       "      <td>-2.935879</td>\n",
       "      <td>1243.750000</td>\n",
       "    </tr>\n",
       "    <tr>\n",
       "      <th>25%</th>\n",
       "      <td>9.920209e+07</td>\n",
       "      <td>130000.000000</td>\n",
       "      <td>73.000000</td>\n",
       "      <td>43.253690</td>\n",
       "      <td>-2.930233</td>\n",
       "      <td>1666.666667</td>\n",
       "    </tr>\n",
       "    <tr>\n",
       "      <th>50%</th>\n",
       "      <td>1.012375e+08</td>\n",
       "      <td>175000.000000</td>\n",
       "      <td>83.000000</td>\n",
       "      <td>43.255593</td>\n",
       "      <td>-2.927386</td>\n",
       "      <td>1931.034483</td>\n",
       "    </tr>\n",
       "    <tr>\n",
       "      <th>75%</th>\n",
       "      <td>1.020135e+08</td>\n",
       "      <td>215000.000000</td>\n",
       "      <td>100.000000</td>\n",
       "      <td>43.257617</td>\n",
       "      <td>-2.920326</td>\n",
       "      <td>2388.888889</td>\n",
       "    </tr>\n",
       "    <tr>\n",
       "      <th>max</th>\n",
       "      <td>1.027157e+08</td>\n",
       "      <td>380000.000000</td>\n",
       "      <td>170.000000</td>\n",
       "      <td>43.260981</td>\n",
       "      <td>-2.915536</td>\n",
       "      <td>3500.000000</td>\n",
       "    </tr>\n",
       "  </tbody>\n",
       "</table>\n",
       "</div>"
      ],
      "text/plain": [
       "               code          price        size   latitude  longitude  \\\n",
       "count  5.300000e+01      53.000000   53.000000  53.000000  53.000000   \n",
       "mean   9.750120e+07  175075.471698   87.754717  43.255487  -2.925537   \n",
       "std    1.398709e+07   54904.542707   24.172382   0.002494   0.005913   \n",
       "min    2.889331e+07   85000.000000   48.000000  43.249536  -2.935879   \n",
       "25%    9.920209e+07  130000.000000   73.000000  43.253690  -2.930233   \n",
       "50%    1.012375e+08  175000.000000   83.000000  43.255593  -2.927386   \n",
       "75%    1.020135e+08  215000.000000  100.000000  43.257617  -2.920326   \n",
       "max    1.027157e+08  380000.000000  170.000000  43.260981  -2.915536   \n",
       "\n",
       "          price_m2  \n",
       "count    53.000000  \n",
       "mean   2026.364944  \n",
       "std     496.207029  \n",
       "min    1243.750000  \n",
       "25%    1666.666667  \n",
       "50%    1931.034483  \n",
       "75%    2388.888889  \n",
       "max    3500.000000  "
      ]
     },
     "execution_count": 71,
     "metadata": {},
     "output_type": "execute_result"
    }
   ],
   "source": [
    "data_ibaiondo2 = data[(data['district'] == 'Ibaiondo')]\n",
    "\n",
    "data_ibaiondo2.describe()"
   ]
  },
  {
   "cell_type": "markdown",
   "id": "63cd1594",
   "metadata": {},
   "source": [
    "### Can we say the average price per m2 in Ibaiondo is 2000€ for those flats that don´t have parking and need to be refurbished?"
   ]
  },
  {
   "cell_type": "code",
   "execution_count": 72,
   "id": "4898ceb2",
   "metadata": {},
   "outputs": [
    {
     "name": "stdout",
     "output_type": "stream",
     "text": [
      "stat is   0.3868137228894816\n",
      "pvalue for the two-tailed test is  0.7004726056193589\n"
     ]
    }
   ],
   "source": [
    "# Null hypothesis or H0: mean price = 2000\n",
    "# Alternative hyp or H1: mean price <> 2000\n",
    "\n",
    "stat, pval = ttest_1samp(data_ibaiondo['price_m2'], 2000)\n",
    "\n",
    "print('stat is  ', stat)\n",
    "print('pvalue for the two-tailed test is ', pval)"
   ]
  },
  {
   "cell_type": "markdown",
   "id": "cf81ca69",
   "metadata": {},
   "source": [
    "### Can we say the average price per m2 in Ibaiondo is 2700€ for those flats that don´t have parking and are in good condition?"
   ]
  },
  {
   "cell_type": "code",
   "execution_count": 73,
   "id": "04522ae5",
   "metadata": {},
   "outputs": [
    {
     "name": "stdout",
     "output_type": "stream",
     "text": [
      "stat is   -9.883248224784326\n",
      "pvalue for the two-tailed test is  1.5569716537965334e-13\n"
     ]
    }
   ],
   "source": [
    "# Null hypothesis or H0: mean price = 2600\n",
    "# Alternative hyp or H1: mean price <> 2600\n",
    "\n",
    "stat, pval = ttest_1samp(data_ibaiondo2['price_m2'], 2700)\n",
    "\n",
    "print('stat is  ', stat)\n",
    "print('pvalue for the two-tailed test is ', pval)"
   ]
  }
 ],
 "metadata": {
  "kernelspec": {
   "display_name": "Python 3 (ipykernel)",
   "language": "python",
   "name": "python3"
  },
  "language_info": {
   "codemirror_mode": {
    "name": "ipython",
    "version": 3
   },
   "file_extension": ".py",
   "mimetype": "text/x-python",
   "name": "python",
   "nbconvert_exporter": "python",
   "pygments_lexer": "ipython3",
   "version": "3.10.9"
  }
 },
 "nbformat": 4,
 "nbformat_minor": 5
}
